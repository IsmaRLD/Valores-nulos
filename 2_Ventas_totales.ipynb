{
  "nbformat": 4,
  "nbformat_minor": 0,
  "metadata": {
    "colab": {
      "provenance": [],
      "collapsed_sections": [],
      "authorship_tag": "ABX9TyMBrpXYWI9eSo0wDVuDeX6U",
      "include_colab_link": true
    },
    "kernelspec": {
      "name": "python3",
      "display_name": "Python 3"
    },
    "language_info": {
      "name": "python"
    }
  },
  "cells": [
    {
      "cell_type": "markdown",
      "metadata": {
        "id": "view-in-github",
        "colab_type": "text"
      },
      "source": [
        "<a href=\"https://colab.research.google.com/github/IsmaRLD/Valores-nulos/blob/main/2_Ventas_totales.ipynb\" target=\"_parent\"><img src=\"https://colab.research.google.com/assets/colab-badge.svg\" alt=\"Open In Colab\"/></a>"
      ]
    },
    {
      "cell_type": "code",
      "execution_count": 6,
      "metadata": {
        "id": "pZ9Kvu95oa45"
      },
      "outputs": [],
      "source": [
        "#Importamos las librerias pandas, numpy y matplotlib respectivamente\n",
        "import pandas as pd\n",
        "import numpy as np\n",
        "import matplotlib.pyplot as plt"
      ]
    },
    {
      "cell_type": "code",
      "source": [
        "#Cargar archivo csv desde equipo\n",
        "from google.colab import files\n",
        "files.upload()"
      ],
      "metadata": {
        "id": "nxWZ3oyOorVP"
      },
      "execution_count": null,
      "outputs": []
    },
    {
      "cell_type": "code",
      "source": [
        "#Carga desde un archivo .csv sin indice\n",
        "data = pd.read_csv('Ventas_totales.csv')\n",
        "data.head(5)"
      ],
      "metadata": {
        "id": "dnIAgRdNos0S"
      },
      "execution_count": null,
      "outputs": []
    },
    {
      "cell_type": "code",
      "source": [
        "#Identificar valores nulos por columna\n",
        "valores_nulos = data.isnull().sum()\n",
        "valores_nulos"
      ],
      "metadata": {
        "id": "OKPAZRw5oywQ"
      },
      "execution_count": null,
      "outputs": []
    },
    {
      "cell_type": "code",
      "source": [
        "#Realizamos una copia del dataframe\n",
        "data3=data.copy()"
      ],
      "metadata": {
        "id": "L85Kf7ynpsPh"
      },
      "execution_count": 10,
      "outputs": []
    },
    {
      "cell_type": "code",
      "source": [
        "#Primer método de sustitución de valores nulos\n",
        "data3[\"tarjetas_debito\"]=data3[\"tarjetas_debito\"].fillna(round(data[\"tarjetas_debito\"].mean(),1))\n",
        "#Con este método se encuentra el promedio de los valores que se tienen y se reemplazan los valores nulos con este promedio"
      ],
      "metadata": {
        "id": "ElZvNP6FpxIf"
      },
      "execution_count": 11,
      "outputs": []
    },
    {
      "cell_type": "code",
      "source": [
        "#Corroboramos valores nulos\n",
        "valores_nulos=data3.isnull().sum()\n",
        "valores_nulos"
      ],
      "metadata": {
        "id": "_3E_DJcdqvQf"
      },
      "execution_count": null,
      "outputs": []
    },
    {
      "cell_type": "code",
      "source": [
        "#Segundo método de sustitución de valores nulos\n",
        "data3[\"otros_medios\"]=data3[\"otros_medios\"].fillna(round(data[\"otros_medios\"].median(),1))\n",
        "#Con este método se encuentra la mediana de un conjunto de datos y se utiliza para reemplazar los valores nulos"
      ],
      "metadata": {
        "id": "4PIFoIctrTMD"
      },
      "execution_count": 13,
      "outputs": []
    },
    {
      "cell_type": "code",
      "source": [
        "#Corroboramos valores nulos\n",
        "valores_nulos=data3.isnull().sum()\n",
        "valores_nulos"
      ],
      "metadata": {
        "id": "dfhIxr39r0iL"
      },
      "execution_count": null,
      "outputs": []
    },
    {
      "cell_type": "code",
      "source": [
        "#Tercer método de sustitucion de valores nulos\n",
        "data3[\"panaderia\"]=data3[\"panaderia\"].fillna(4031807.52)\n",
        "#Con este método escogemos un valores específico para llenar los valores nulos"
      ],
      "metadata": {
        "id": "B9tTLkp2stxG"
      },
      "execution_count": 15,
      "outputs": []
    },
    {
      "cell_type": "code",
      "source": [
        "#Corroboramos valores nulos\n",
        "valores_nulos=data3.isnull().sum()\n",
        "valores_nulos"
      ],
      "metadata": {
        "id": "Jd1HRxxAsxT4"
      },
      "execution_count": null,
      "outputs": []
    },
    {
      "cell_type": "markdown",
      "source": [
        "**En este caso el cuatro método de utilizar un string en concreto no nos sirve ya que unicamente hay valores numéricos en la base de datos, aún así, realizaremos solo un ejemplo para utilizar el método**"
      ],
      "metadata": {
        "id": "CsRzLNP8uHTc"
      }
    },
    {
      "cell_type": "code",
      "source": [
        "#Cuarto metodo de sustitucion de valores nulos\n",
        "data3[\"lacteos\"]=data3[\"lacteos\"].fillna(\"Valor no valido\")\n",
        "#Con este método se sustituyen los valores nulos por un string, en este caso debido a que hay puros valores numéricos en la base de datos no nos combiene el método, pero podemos utilizarlo para que cambie los valores nulos a una palabara como \"no valido\""
      ],
      "metadata": {
        "id": "xltGXtd1-yyw"
      },
      "execution_count": 39,
      "outputs": []
    },
    {
      "cell_type": "code",
      "source": [
        "#Corroboramos valores nulos\n",
        "valores_nulos=data3.isnull().sum()\n",
        "valores_nulos"
      ],
      "metadata": {
        "id": "xFb5t9y__LyI"
      },
      "execution_count": null,
      "outputs": []
    },
    {
      "cell_type": "code",
      "source": [
        "#Quinto método de sustitución de valores nulos\n",
        "data3[\"subtotal_ventas_alimentos_bebidas\"]=data3[\"subtotal_ventas_alimentos_bebidas\"].fillna(method=\"ffill\")\n",
        "#Con este método sustituímos todos los valores nulos que esten delante de un valor no nulo por ese mismo valor"
      ],
      "metadata": {
        "id": "QaObCpT7tlJU"
      },
      "execution_count": 17,
      "outputs": []
    },
    {
      "cell_type": "code",
      "source": [
        "#Corroboramos valores nulos\n",
        "valores_nulos=data3.isnull().sum()\n",
        "valores_nulos"
      ],
      "metadata": {
        "id": "HaK1eBwwtseN"
      },
      "execution_count": null,
      "outputs": []
    },
    {
      "cell_type": "code",
      "source": [
        "#Sexto método de sustitución de valores nulos\n",
        "data3[\"tarjetas_credito\"]=data3[\"tarjetas_credito\"].fillna(method=\"bfill\")\n",
        "#Con este método sustituímos todos los valores nulos que esten detras de un valor no nulo por ese mismo valor"
      ],
      "metadata": {
        "id": "qSphShXNu0-C"
      },
      "execution_count": 19,
      "outputs": []
    },
    {
      "cell_type": "code",
      "source": [
        "#Corroboramos valores nulos\n",
        "valores_nulos=data3.isnull().sum()\n",
        "valores_nulos"
      ],
      "metadata": {
        "id": "LDYQxnh3vQFq"
      },
      "execution_count": null,
      "outputs": []
    },
    {
      "cell_type": "code",
      "source": [
        "#Sexto método de sustitución de valores nulos\n",
        "data3[\"salon_ventas\"]=data3[\"salon_ventas\"].fillna(method=\"ffill\")\n",
        "#Con este método sustituímos todos los valores nulos que esten delante de un valor no nulo por ese mismo valor"
      ],
      "metadata": {
        "id": "7KxU618v9hwN"
      },
      "execution_count": 30,
      "outputs": []
    },
    {
      "cell_type": "code",
      "source": [
        "#Corroboramos valores nulos\n",
        "valores_nulos=data3.isnull().sum()\n",
        "valores_nulos"
      ],
      "metadata": {
        "id": "dhoV92Mf90MP"
      },
      "execution_count": null,
      "outputs": []
    },
    {
      "cell_type": "code",
      "source": [
        "#Segundo método de sustitución de valores nulos\n",
        "data3[\"bebidas\"]=data3[\"bebidas\"].fillna(round(data[\"bebidas\"].median(),1))\n",
        "#Con este método se encuentra la mediana de un conjunto de datos y se utiliza para reemplazar los valores nulos"
      ],
      "metadata": {
        "id": "9Isps5Nz9-Nw"
      },
      "execution_count": 43,
      "outputs": []
    },
    {
      "cell_type": "code",
      "source": [
        "#Corroboramos valores nulos\n",
        "valores_nulos=data3.isnull().sum()\n",
        "valores_nulos"
      ],
      "metadata": {
        "id": "LV7ourVN-G8X"
      },
      "execution_count": null,
      "outputs": []
    },
    {
      "cell_type": "code",
      "source": [
        "#Primer método de sustitución de valores nulos\n",
        "data3[\"almacen\"]=data3[\"almacen\"].fillna(round(data[\"almacen\"].mean(),1))\n",
        "#Con este método se encuentra el promedio de los valores que se tienen y se reemplazan los valores nulos con este promedio"
      ],
      "metadata": {
        "id": "_39SGw7a-HD4"
      },
      "execution_count": 32,
      "outputs": []
    },
    {
      "cell_type": "code",
      "source": [
        "#Corroboramos valores nulos\n",
        "valores_nulos=data3.isnull().sum()\n",
        "valores_nulos"
      ],
      "metadata": {
        "id": "lZvYSQGl-HId"
      },
      "execution_count": null,
      "outputs": []
    },
    {
      "cell_type": "code",
      "source": [
        "#Tercer método de sustitucion de valores nulos\n",
        "data3[\"carnes\"]=data3[\"carnes\"].fillna(27582104.16)\n",
        "#Con este método escogemos un valores específico para llenar los valores nulos"
      ],
      "metadata": {
        "id": "-nWqDXZD-HRx"
      },
      "execution_count": 41,
      "outputs": []
    },
    {
      "cell_type": "code",
      "source": [
        "#Corroboramos valores nulos\n",
        "valores_nulos=data3.isnull().sum()\n",
        "valores_nulos"
      ],
      "metadata": {
        "id": "KI24yF5b-Kp0"
      },
      "execution_count": null,
      "outputs": []
    },
    {
      "cell_type": "code",
      "source": [
        "#Sexto método de sustitución de valores nulos\n",
        "data3[\"otros\"]=data3[\"otros\"].fillna(method=\"bfill\")\n",
        "#Con este método sustituímos todos los valores nulos que esten detras de un valor no nulo por ese mismo valor"
      ],
      "metadata": {
        "id": "MHRd4iKzAOW6"
      },
      "execution_count": 45,
      "outputs": []
    },
    {
      "cell_type": "code",
      "source": [
        "#Corroboramos valores nulos\n",
        "valores_nulos=data3.isnull().sum()\n",
        "valores_nulos"
      ],
      "metadata": {
        "id": "RVUEsbrUAOZj"
      },
      "execution_count": null,
      "outputs": []
    },
    {
      "cell_type": "code",
      "source": [
        "#Quinto método de sustitución de valores nulos\n",
        "data3[\"electronicos_articulos_hogar\"]=data3[\"electronicos_articulos_hogar\"].fillna(method=\"ffill\")\n",
        "#Con este método sustituímos todos los valores nulos que esten delante de un valor no nulo por ese mismo valor"
      ],
      "metadata": {
        "id": "VDmaZbc2AOcJ"
      },
      "execution_count": 47,
      "outputs": []
    },
    {
      "cell_type": "code",
      "source": [
        "#Corroboramos valores nulos\n",
        "valores_nulos=data3.isnull().sum()\n",
        "valores_nulos"
      ],
      "metadata": {
        "id": "4BG3p4yGAOe7"
      },
      "execution_count": null,
      "outputs": []
    },
    {
      "cell_type": "code",
      "source": [
        "#Primer método de sustitución de valores nulos\n",
        "data3[\"verduleria_fruteria\"]=data3[\"verduleria_fruteria\"].fillna(round(data[\"verduleria_fruteria\"].mean(),1))\n",
        "#Con este método se encuentra el promedio de los valores que se tienen y se reemplazan los valores nulos con este promedio"
      ],
      "metadata": {
        "id": "HX-NrzQ2AOhg"
      },
      "execution_count": 50,
      "outputs": []
    },
    {
      "cell_type": "code",
      "source": [
        "#Corroboramos valores nulos\n",
        "valores_nulos=data3.isnull().sum()\n",
        "valores_nulos"
      ],
      "metadata": {
        "id": "-gFjTcY-AOj3"
      },
      "execution_count": null,
      "outputs": []
    },
    {
      "cell_type": "code",
      "source": [
        "#Sexto método de sustitución de valores nulos\n",
        "data3[\"indumentaria_calzado_textiles_hogar\"]=data3[\"indumentaria_calzado_textiles_hogar\"].fillna(method=\"bfill\")\n",
        "#Con este método sustituímos todos los valores nulos que esten detras de un valor no nulo por ese mismo valor"
      ],
      "metadata": {
        "id": "hcOKp3BfA-h7"
      },
      "execution_count": 53,
      "outputs": []
    },
    {
      "cell_type": "code",
      "source": [
        "#Corroboramos valores nulos\n",
        "valores_nulos=data3.isnull().sum()\n",
        "valores_nulos"
      ],
      "metadata": {
        "colab": {
          "base_uri": "https://localhost:8080/"
        },
        "id": "2t4tfGQGA-rS",
        "outputId": "fd1b19b2-4c95-4d65-a689-5c69710c888d"
      },
      "execution_count": 55,
      "outputs": [
        {
          "output_type": "execute_result",
          "data": {
            "text/plain": [
              "indice_tiempo                          0\n",
              "ventas_precios_corrientes              0\n",
              "ventas_precios_constantes              0\n",
              "ventas_totales_canal_venta             0\n",
              "salon_ventas                           0\n",
              "canales_on_line                        0\n",
              "ventas_totales_medio_pago              0\n",
              "efectivo                               0\n",
              "tarjetas_debito                        0\n",
              "tarjetas_credito                       0\n",
              "otros_medios                           0\n",
              "ventas_totales_grupo_articulos         0\n",
              "subtotal_ventas_alimentos_bebidas      0\n",
              "bebidas                                0\n",
              "almacen                                0\n",
              "panaderia                              0\n",
              "lacteos                                0\n",
              "carnes                                 0\n",
              "verduleria_fruteria                    0\n",
              "alimentos_preparados_rotiseria         1\n",
              "articulos_limpieza_perfumeria          0\n",
              "indumentaria_calzado_textiles_hogar    0\n",
              "electronicos_articulos_hogar           0\n",
              "otros                                  0\n",
              "dtype: int64"
            ]
          },
          "metadata": {},
          "execution_count": 55
        }
      ]
    },
    {
      "cell_type": "code",
      "source": [
        "#Segundo método de sustitución de valores nulos\n",
        "data3[\"alimentos_preparados_rotiseria\"]=data3[\"alimentos_preparados_rotiseria\"].fillna(round(data[\"alimentos_preparados_rotiseria\"].median(),1))\n",
        "#Con este método se encuentra la mediana de un conjunto de datos y se utiliza para reemplazar los valores nulos"
      ],
      "metadata": {
        "id": "r5-Bk-0OA-08"
      },
      "execution_count": 57,
      "outputs": []
    },
    {
      "cell_type": "code",
      "source": [
        "#Corroboramos valores nulos\n",
        "valores_nulos=data3.isnull().sum()\n",
        "valores_nulos"
      ],
      "metadata": {
        "id": "uNbeIhUQA-7P"
      },
      "execution_count": null,
      "outputs": []
    },
    {
      "cell_type": "code",
      "source": [
        "#Corroboramos valores nulos en todo el dataframe\n",
        "valores_nulos=data3.isnull().sum().sum()\n",
        "valores_nulos"
      ],
      "metadata": {
        "id": "UcZYEWKSBwOk"
      },
      "execution_count": null,
      "outputs": []
    },
    {
      "cell_type": "code",
      "source": [
        "#Convertir Dataframe a CSV\n",
        "data3.to_csv(\"Ventas_totales_sin_nulos.csv\")\n",
        "data3"
      ],
      "metadata": {
        "id": "d3yaJyhsB1iG"
      },
      "execution_count": null,
      "outputs": []
    },
    {
      "cell_type": "code",
      "source": [
        "#Descargar archivo\n",
        "from google.colab import files\n",
        "files.download(\"Ventas_totales_sin_nulos.csv\")"
      ],
      "metadata": {
        "colab": {
          "base_uri": "https://localhost:8080/",
          "height": 17
        },
        "id": "njBSp_NSB1km",
        "outputId": "3079b137-f4c0-4897-9ffe-6c56ea1c329a"
      },
      "execution_count": 61,
      "outputs": [
        {
          "output_type": "display_data",
          "data": {
            "text/plain": [
              "<IPython.core.display.Javascript object>"
            ],
            "application/javascript": [
              "\n",
              "    async function download(id, filename, size) {\n",
              "      if (!google.colab.kernel.accessAllowed) {\n",
              "        return;\n",
              "      }\n",
              "      const div = document.createElement('div');\n",
              "      const label = document.createElement('label');\n",
              "      label.textContent = `Downloading \"${filename}\": `;\n",
              "      div.appendChild(label);\n",
              "      const progress = document.createElement('progress');\n",
              "      progress.max = size;\n",
              "      div.appendChild(progress);\n",
              "      document.body.appendChild(div);\n",
              "\n",
              "      const buffers = [];\n",
              "      let downloaded = 0;\n",
              "\n",
              "      const channel = await google.colab.kernel.comms.open(id);\n",
              "      // Send a message to notify the kernel that we're ready.\n",
              "      channel.send({})\n",
              "\n",
              "      for await (const message of channel.messages) {\n",
              "        // Send a message to notify the kernel that we're ready.\n",
              "        channel.send({})\n",
              "        if (message.buffers) {\n",
              "          for (const buffer of message.buffers) {\n",
              "            buffers.push(buffer);\n",
              "            downloaded += buffer.byteLength;\n",
              "            progress.value = downloaded;\n",
              "          }\n",
              "        }\n",
              "      }\n",
              "      const blob = new Blob(buffers, {type: 'application/binary'});\n",
              "      const a = document.createElement('a');\n",
              "      a.href = window.URL.createObjectURL(blob);\n",
              "      a.download = filename;\n",
              "      div.appendChild(a);\n",
              "      a.click();\n",
              "      div.remove();\n",
              "    }\n",
              "  "
            ]
          },
          "metadata": {}
        },
        {
          "output_type": "display_data",
          "data": {
            "text/plain": [
              "<IPython.core.display.Javascript object>"
            ],
            "application/javascript": [
              "download(\"download_c59058c5-5c92-45d5-b924-93fccf9ef3f5\", \"inmuebles_sin_nulos.csv\", 18632)"
            ]
          },
          "metadata": {}
        }
      ]
    }
  ]
}